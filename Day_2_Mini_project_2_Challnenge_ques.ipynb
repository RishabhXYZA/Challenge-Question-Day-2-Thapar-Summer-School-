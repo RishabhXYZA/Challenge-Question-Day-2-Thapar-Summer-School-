{
  "nbformat": 4,
  "nbformat_minor": 0,
  "metadata": {
    "colab": {
      "provenance": [],
      "authorship_tag": "ABX9TyOtsJqwcwIInP/qMo5TmdGn",
      "include_colab_link": true
    },
    "kernelspec": {
      "name": "python3",
      "display_name": "Python 3"
    },
    "language_info": {
      "name": "python"
    }
  },
  "cells": [
    {
      "cell_type": "markdown",
      "metadata": {
        "id": "view-in-github",
        "colab_type": "text"
      },
      "source": [
        "<a href=\"https://colab.research.google.com/github/RishabhXYZA/Third-Project/blob/main/Day_2_Mini_project_2_Challnenge_ques.ipynb\" target=\"_parent\"><img src=\"https://colab.research.google.com/assets/colab-badge.svg\" alt=\"Open In Colab\"/></a>"
      ]
    },
    {
      "cell_type": "markdown",
      "source": [
        "**Challenge Question**\n",
        "L=[\"Ram\",1,\"Shyam\",2,\"Aman\",3]\n",
        "using the code\n",
        "print(L)\n",
        "L.sort()\n",
        "print(L)\n",
        "it provides error in code.Correct it"
      ],
      "metadata": {
        "id": "nLFZEVGE2ngl"
      }
    },
    {
      "cell_type": "code",
      "source": [
        "L=[\"Ram\",1,\"Shyam\",2,\"Aman\",3]"
      ],
      "metadata": {
        "id": "h8sB3f4-3r07"
      },
      "execution_count": 18,
      "outputs": []
    },
    {
      "cell_type": "code",
      "source": [
        "L1=[]\n",
        "L2=[]"
      ],
      "metadata": {
        "id": "PwzMjWWs3r3_"
      },
      "execution_count": 19,
      "outputs": []
    },
    {
      "cell_type": "code",
      "source": [
        "for i in L:\n",
        "  try:\n",
        "    L1.append(int(i))\n",
        "  except:\n",
        "    L2.append(i)\n",
        "L1.sort()\n",
        "L2.sort()\n",
        "L3=L1+L2\n",
        "print(\"List after sorting hetrogeneous data is -->\",L3)"
      ],
      "metadata": {
        "colab": {
          "base_uri": "https://localhost:8080/"
        },
        "id": "02Mq0OyL3r7Q",
        "outputId": "f4165d8c-102b-4b9b-8cdb-50f7a867a228"
      },
      "execution_count": 20,
      "outputs": [
        {
          "output_type": "stream",
          "name": "stdout",
          "text": [
            "List after sorting hetrogeneous data is --> [1, 2, 3, 'Aman', 'Ram', 'Shyam']\n"
          ]
        }
      ]
    }
  ]
}