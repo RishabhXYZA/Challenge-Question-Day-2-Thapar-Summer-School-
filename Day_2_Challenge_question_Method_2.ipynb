{
  "nbformat": 4,
  "nbformat_minor": 0,
  "metadata": {
    "colab": {
      "provenance": [],
      "authorship_tag": "ABX9TyPjJUtLjeOeUIMEHhq58MXJ",
      "include_colab_link": true
    },
    "kernelspec": {
      "name": "python3",
      "display_name": "Python 3"
    },
    "language_info": {
      "name": "python"
    }
  },
  "cells": [
    {
      "cell_type": "markdown",
      "metadata": {
        "id": "view-in-github",
        "colab_type": "text"
      },
      "source": [
        "<a href=\"https://colab.research.google.com/github/RishabhXYZA/Challenge-Question-Day-2-Thapar-Summer-School-/blob/main/Day_2_Challenge_question_Method_2.ipynb\" target=\"_parent\"><img src=\"https://colab.research.google.com/assets/colab-badge.svg\" alt=\"Open In Colab\"/></a>"
      ]
    },
    {
      "cell_type": "code",
      "execution_count": 2,
      "metadata": {
        "id": "jMOz3R5cnVro",
        "colab": {
          "base_uri": "https://localhost:8080/"
        },
        "outputId": "4cc0e054-5ff1-4af0-bab0-f615adcfbd49"
      },
      "outputs": [
        {
          "output_type": "stream",
          "name": "stdout",
          "text": [
            "[1, 2, 3, 'Aman', 'Ram', 'Shyam']\n"
          ]
        }
      ],
      "source": [
        "L=[1,'Ram',2,'Shyam',3,'Aman']\n",
        "L1=[]\n",
        "L2=[]\n",
        "for i in L:\n",
        "  if type(i)==int:\n",
        "    L1.append(i)\n",
        "  else:\n",
        "    L2.append(i)\n",
        "L1.sort()\n",
        "L2.sort()\n",
        "L3=L1+L2\n",
        "print(L3)"
      ]
    }
  ]
}